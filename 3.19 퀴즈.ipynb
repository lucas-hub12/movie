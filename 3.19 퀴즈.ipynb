{
 "cells": [
  {
   "cell_type": "code",
   "execution_count": 6,
   "id": "83d6bc72-8ef1-4b9d-b4f7-9127de3c39c2",
   "metadata": {},
   "outputs": [],
   "source": [
    "import pandas as pd\n",
    "# BASE_PATH = '/home/lucas/data/movies/dailyboxoffice'\n",
    "# df = pd.read_parquet(BASE_PATH)\n"
   ]
  },
  {
   "cell_type": "code",
   "execution_count": 10,
   "id": "74ae5f91-8a8d-4cdc-86e9-a507cf2f9c53",
   "metadata": {},
   "outputs": [],
   "source": [
    "A = pd.DataFrame({\n",
    "    \"movieCd\": [\"1001\", \"1002\", \"1003\"],\n",
    "    \"multiMovieYn\": [\"Y\", \"Y\", \"N\"],\n",
    "    \"repNationCd\": [\"K\", \"F\", None]\n",
    "})"
   ]
  },
  {
   "cell_type": "code",
   "execution_count": 11,
   "id": "ea96d5b0-56fc-4e97-a021-89c92c8540a2",
   "metadata": {},
   "outputs": [
    {
     "name": "stdout",
     "output_type": "stream",
     "text": [
      "  movieCd multiMovieYn repNationCd\n",
      "0    1001            Y           K\n",
      "1    1002            Y           F\n",
      "2    1003            N        None\n"
     ]
    }
   ],
   "source": [
    "print(A)"
   ]
  },
  {
   "cell_type": "code",
   "execution_count": 12,
   "id": "2bfb031f-019d-4f7e-8451-f74cbf623846",
   "metadata": {},
   "outputs": [],
   "source": [
    "B = pd.DataFrame({\n",
    "    \"movieCd\": [\"1001\", \"1003\", \"1004\"],\n",
    "    \"multiMovieYn\": [None, \"Y\", \"Y\"],\n",
    "    \"repNationCd\": [None, \"F\", \"K\"]\n",
    "})"
   ]
  },
  {
   "cell_type": "code",
   "execution_count": 13,
   "id": "5c4939fb-db66-48ae-9d5a-5853ffc2adbb",
   "metadata": {},
   "outputs": [
    {
     "name": "stdout",
     "output_type": "stream",
     "text": [
      "  movieCd multiMovieYn repNationCd\n",
      "0    1001         None        None\n",
      "1    1003            Y           F\n",
      "2    1004            Y           K\n"
     ]
    }
   ],
   "source": [
    "print(B)"
   ]
  },
  {
   "cell_type": "code",
   "execution_count": 31,
   "id": "c6a13110-a17b-4907-a03a-9db99e82dc13",
   "metadata": {},
   "outputs": [
    {
     "name": "stdout",
     "output_type": "stream",
     "text": [
      "  movieCd multiMovieYn repNationCd\n",
      "0    1001            Y           K\n",
      "1    1002            Y           F\n",
      "2    1003            N           F\n",
      "3    1004            Y           K\n"
     ]
    }
   ],
   "source": [
    "# TODO\n",
    "r_df = A.set_index(\"movieCd\").combine_first(B.set_index(\"movieCd\")).reset_index()\n",
    "print(r_df)"
   ]
  },
  {
   "cell_type": "code",
   "execution_count": 32,
   "id": "f2e4678e-99d2-415a-9c10-711583ef385f",
   "metadata": {},
   "outputs": [
    {
     "name": "stdout",
     "output_type": "stream",
     "text": [
      "  movieCd multiMovieYn_A repNationCd_A multiMovieYn_B repNationCd_B\n",
      "0    1001              Y             K           None          None\n",
      "1    1002              Y             F            NaN           NaN\n",
      "2    1003              N          None              Y             F\n",
      "3    1004            NaN           NaN              Y             K\n"
     ]
    }
   ],
   "source": [
    "merged_df = A.merge(B, on=\"movieCd\", how=\"outer\", suffixes=(\"_A\", \"_B\"))\n",
    "print(merged_df)\n",
    "#  movieCd multiMovieYn_A repNationCd_A multiMovieYn_B repNationCd_B\n",
    "# 0    1001              Y             K           None          None\n",
    "# 1    1002              Y             F            NaN           NaN\n",
    "# 2    1003              N          None              Y             F\n",
    "# 3    1004            NaN           NaN              Y             K"
   ]
  },
  {
   "cell_type": "code",
   "execution_count": 38,
   "id": "93e82d76-ddc1-43f5-bd59-b67bd1618c58",
   "metadata": {},
   "outputs": [
    {
     "name": "stdout",
     "output_type": "stream",
     "text": [
      "  movieCd multiMovieYn repNationCd\n",
      "0    1001            Y           K\n",
      "1    1002            Y           F\n",
      "2    1003            N           F\n",
      "3    1004            Y           K\n"
     ]
    }
   ],
   "source": [
    "merged_df = A.merge(B, on=\"movieCd\", how=\"outer\", suffixes=(\"_A\", \"_B\"))\n",
    "\n",
    "# 결측치(NaN, None) 채우기: A값이 없으면 B값 사용\n",
    "merged_df[\"multiMovieYn\"] = merged_df[\"multiMovieYn_A\"].combine_first(merged_df[\"multiMovieYn_B\"])\n",
    "merged_df[\"repNationCd\"] = merged_df[\"repNationCd_A\"].combine_first(merged_df[\"repNationCd_B\"])\n",
    "\n",
    "result_df = merged_df[[\"movieCd\", \"multiMovieYn\", \"repNationCd\"]]\n",
    "\n",
    "print(result_df)"
   ]
  },
  {
   "cell_type": "code",
   "execution_count": null,
   "id": "4bde6036-7804-4dc2-840a-b4d2fe3786e0",
   "metadata": {},
   "outputs": [],
   "source": []
  }
 ],
 "metadata": {
  "kernelspec": {
   "display_name": "Python 3 (ipykernel)",
   "language": "python",
   "name": "python3"
  },
  "language_info": {
   "codemirror_mode": {
    "name": "ipython",
    "version": 3
   },
   "file_extension": ".py",
   "mimetype": "text/x-python",
   "name": "python",
   "nbconvert_exporter": "python",
   "pygments_lexer": "ipython3",
   "version": "3.10.12"
  }
 },
 "nbformat": 4,
 "nbformat_minor": 5
}
