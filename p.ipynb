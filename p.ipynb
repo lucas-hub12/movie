{
 "cells": [
  {
   "cell_type": "code",
   "execution_count": 3,
   "id": "04d32c33-a735-4f83-8d8f-0ccb21d65488",
   "metadata": {},
   "outputs": [],
   "source": [
    "# tree -L 1\n",
    "#├── dt=20240101\n",
    "#├── dt=20240102\n",
    "#├── dt=20240103\n",
    "#├── dt=20240104\n",
    "#└── merge\n",
    "\n",
    "BASE_PATH = '/home/lucas/data/movies/dailyboxoffice'\n",
    "\n",
    "import pandas as pd\n",
    "\n",
    "df = pd.read_parquet(BASE_PATH)"
   ]
  },
  {
   "cell_type": "code",
   "execution_count": 4,
   "id": "801867f3-d0b9-4d7d-b9e7-d9fe0d55ed22",
   "metadata": {},
   "outputs": [
    {
     "data": {
      "text/plain": [
       "Index(['rnum', 'rank', 'rankInten', 'rankOldAndNew', 'movieCd', 'movieNm',\n",
       "       'openDt', 'salesAmt', 'salesShare', 'salesInten', 'salesChange',\n",
       "       'salesAcc', 'audiCnt', 'audiInten', 'audiChange', 'audiAcc', 'scrnCnt',\n",
       "       'showCnt', 'dt', 'multiMovieYn', 'repNationCd'],\n",
       "      dtype='object')"
      ]
     },
     "execution_count": 4,
     "metadata": {},
     "output_type": "execute_result"
    }
   ],
   "source": [
    "df.columns"
   ]
  },
  {
   "cell_type": "code",
   "execution_count": 9,
   "id": "3a2e79a3-863f-49e9-baa5-36965afe7f36",
   "metadata": {},
   "outputs": [],
   "source": [
    "df.to_parquet(\"~/temp/t_p_1\", partition_cols=['openDt','movieCd'])"
   ]
  },
  {
   "cell_type": "code",
   "execution_count": 10,
   "id": "76537177-88db-4145-a690-2238c70dfd00",
   "metadata": {},
   "outputs": [],
   "source": [
    "df.to_parquet(\"~/temp/t_p_2\", partition_cols=['openDt','salesAmt','repNationCd'])"
   ]
  },
  {
   "cell_type": "code",
   "execution_count": null,
   "id": "0d2a1697-26e4-42c9-91b2-934f8d511e3b",
   "metadata": {},
   "outputs": [],
   "source": []
  }
 ],
 "metadata": {
  "kernelspec": {
   "display_name": "Python 3 (ipykernel)",
   "language": "python",
   "name": "python3"
  },
  "language_info": {
   "codemirror_mode": {
    "name": "ipython",
    "version": 3
   },
   "file_extension": ".py",
   "mimetype": "text/x-python",
   "name": "python",
   "nbconvert_exporter": "python",
   "pygments_lexer": "ipython3",
   "version": "3.10.12"
  }
 },
 "nbformat": 4,
 "nbformat_minor": 5
}
