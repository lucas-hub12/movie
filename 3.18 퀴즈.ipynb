{
 "cells": [
  {
   "cell_type": "code",
   "execution_count": 1,
   "id": "a9998e54-79c8-40a3-b3b0-fa08f087d54a",
   "metadata": {},
   "outputs": [],
   "source": [
    "import pandas as pd\n",
    "PATH = \"~/data/movies/dailyboxoffice/dt=20240101\"\n",
    "df = pd.read_parquet(PATH)"
   ]
  },
  {
   "cell_type": "code",
   "execution_count": 3,
   "id": "0903f22b-f178-4c61-92f2-83f67c83a600",
   "metadata": {},
   "outputs": [],
   "source": [
    "df.drop(columns=['rankInten'], inplace=True)"
   ]
  },
  {
   "cell_type": "code",
   "execution_count": 4,
   "id": "0cb44bed-2bdd-43b8-9c94-d6ca9f1b1773",
   "metadata": {},
   "outputs": [
    {
     "name": "stdout",
     "output_type": "stream",
     "text": [
      "Unique movies count: 40\n"
     ]
    }
   ],
   "source": [
    "unique_movie_count = df['movieCd'].nunique()\n",
    "print(f\"Unique movies count: {unique_movie_count}\")"
   ]
  },
  {
   "cell_type": "code",
   "execution_count": 5,
   "id": "4224e579-c3cd-42e9-b0b9-dcb3ebf74d37",
   "metadata": {},
   "outputs": [
    {
     "name": "stdout",
     "output_type": "stream",
     "text": [
      "multiMovieYn NaN 건수: 10\n",
      "repNationCd NaN 건수: 10\n",
      "동시에 NaN인 건수: 10\n"
     ]
    }
   ],
   "source": [
    "nan_multi = df['multiMovieYn'].isna().sum()\n",
    "\n",
    "# repNationCd 칼럼의 NaN 건수\n",
    "nan_rep = df['repNationCd'].isna().sum()\n",
    "\n",
    "# multiMovieYn과 repNationCd 모두 NaN인 건수\n",
    "nan_both = df[df['multiMovieYn'].isna() & df['repNationCd'].isna()].shape[0]\n",
    "\n",
    "print(\"multiMovieYn NaN 건수:\", nan_multi)\n",
    "print(\"repNationCd NaN 건수:\", nan_rep)\n",
    "print(\"동시에 NaN인 건수:\", nan_both)"
   ]
  },
  {
   "cell_type": "code",
   "execution_count": 6,
   "id": "37f0f138-2440-4196-b454-7d1418408365",
   "metadata": {},
   "outputs": [
    {
     "name": "stdout",
     "output_type": "stream",
     "text": [
      "Head 3 movie names: ['노량: 죽음의 바다', '서울의 봄', '신차원! 짱구는 못말려 더 무비 초능력 대결전 ~날아라 수제김밥~']\n",
      "Tail 3 movie names: ['우리 돈 벌레', '느티나무 아래', '룩앳미 터치미 키스미']\n"
     ]
    }
   ],
   "source": [
    "df_unique = df.drop_duplicates(subset=['movieCd']).copy()\n",
    "\n",
    "# 2. 관객 수(audiCnt) 기준 내림차순 정렬 (가장 많은 관객 수가 위로 오도록)\n",
    "df_unique = df_unique.sort_values('audiCnt', ascending=False)\n",
    "\n",
    "# 3. rnum 컬럼 생성: 정렬 후 행 번호 (1부터 시작)\n",
    "df_unique['rnum'] = range(1, len(df_unique) + 1)\n",
    "\n",
    "# 4. rank 컬럼 생성: 관객 수 기준 순위 (동일 값은 동일 순위, dense 방식)\n",
    "df_unique['rank'] = df_unique['audiCnt'].rank(method='dense', ascending=False).astype(int)\n",
    "\n",
    "# 5. head 3과 tail 3 영화명의 리스트 추출\n",
    "head3_movie_names = df_unique.head(3)['movieNm'].tolist()\n",
    "tail3_movie_names = df_unique.tail(3)['movieNm'].tolist()\n",
    "\n",
    "print(\"Head 3 movie names:\", head3_movie_names)\n",
    "print(\"Tail 3 movie names:\", tail3_movie_names)"
   ]
  },
  {
   "cell_type": "code",
   "execution_count": null,
   "id": "b732462f-9500-4eac-b62d-650bfe41cc3a",
   "metadata": {},
   "outputs": [],
   "source": []
  }
 ],
 "metadata": {
  "kernelspec": {
   "display_name": "Python 3 (ipykernel)",
   "language": "python",
   "name": "python3"
  },
  "language_info": {
   "codemirror_mode": {
    "name": "ipython",
    "version": 3
   },
   "file_extension": ".py",
   "mimetype": "text/x-python",
   "name": "python",
   "nbconvert_exporter": "python",
   "pygments_lexer": "ipython3",
   "version": "3.10.12"
  }
 },
 "nbformat": 4,
 "nbformat_minor": 5
}
